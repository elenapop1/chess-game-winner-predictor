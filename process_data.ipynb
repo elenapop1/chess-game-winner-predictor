{
  "cells": [
    {
      "cell_type": "code",
      "execution_count": 167,
      "metadata": {
        "id": "SJE2PoZgLWdO"
      },
      "outputs": [],
      "source": [
        "import pandas as pd\n",
        "import numpy as np\n",
        "import pickle as pkl\n",
        "from tensorflow.keras.preprocessing.sequence import pad_sequences\n",
        "from sklearn.model_selection import train_test_split\n",
        "from tensorflow.keras.preprocessing.text import Tokenizer\n",
        "from tensorflow.keras.models import Sequential\n",
        "from tensorflow.keras.layers import Embedding, LSTM, Dense, Input,GRU, SimpleRNN\n",
        "import tensorflow as tf\n",
        "from sklearn.model_selection import train_test_split\n",
        "from tensorflow.keras.callbacks import ReduceLROnPlateau\n"
      ]
    },
    {
      "cell_type": "code",
      "execution_count": 168,
      "metadata": {
        "id": "cep3dAWzLWdQ"
      },
      "outputs": [],
      "source": [
        "data = pd.read_csv('games.csv')"
      ]
    },
    {
      "cell_type": "code",
      "execution_count": 169,
      "metadata": {
        "colab": {
          "base_uri": "https://localhost:8080/"
        },
        "id": "IwlcIKzWLWdQ",
        "outputId": "b446d21b-bd5e-4c9e-f287-5d64d4aebca8"
      },
      "outputs": [
        {
          "data": {
            "text/plain": [
              "429"
            ]
          },
          "execution_count": 169,
          "metadata": {},
          "output_type": "execute_result"
        }
      ],
      "source": [
        "data.duplicated().sum()"
      ]
    },
    {
      "cell_type": "code",
      "execution_count": 170,
      "metadata": {
        "id": "2w_TjW68LWdR"
      },
      "outputs": [],
      "source": [
        "data = data.drop_duplicates()"
      ]
    },
    {
      "cell_type": "code",
      "execution_count": 171,
      "metadata": {
        "colab": {
          "base_uri": "https://localhost:8080/"
        },
        "id": "pucfDoetLWdR",
        "outputId": "d3655d6a-5754-4646-b755-35defdb9ae2e"
      },
      "outputs": [
        {
          "data": {
            "text/plain": [
              "winner\n",
              "white    9792\n",
              "black    8919\n",
              "draw      918\n",
              "Name: count, dtype: int64"
            ]
          },
          "execution_count": 171,
          "metadata": {},
          "output_type": "execute_result"
        }
      ],
      "source": [
        "data.winner.value_counts()"
      ]
    },
    {
      "cell_type": "code",
      "execution_count": 140,
      "metadata": {
        "id": "CZsS2tHILWdR"
      },
      "outputs": [],
      "source": [
        "data = data.drop(['white_id', 'black_id', 'white_rating', 'black_rating', 'id', 'rated'], axis=1)"
      ]
    },
    {
      "cell_type": "code",
      "execution_count": 172,
      "metadata": {},
      "outputs": [
        {
          "data": {
            "text/plain": [
              "victory_status\n",
              "resign       10926\n",
              "mate          6188\n",
              "outoftime     1641\n",
              "draw           874\n",
              "Name: count, dtype: int64"
            ]
          },
          "execution_count": 172,
          "metadata": {},
          "output_type": "execute_result"
        }
      ],
      "source": [
        "data['victory_status'].value_counts()"
      ]
    },
    {
      "cell_type": "code",
      "execution_count": 141,
      "metadata": {
        "id": "aqPQslJlLWdS"
      },
      "outputs": [],
      "source": [
        "data = pd.get_dummies(data, columns=['victory_status'], prefix='victory_status',  dtype=int)"
      ]
    },
    {
      "cell_type": "code",
      "execution_count": 142,
      "metadata": {
        "id": "JU_nk_znLWdS"
      },
      "outputs": [],
      "source": [
        "data = data.drop(['created_at', 'last_move_at', 'increment_code', 'opening_name'], axis=1)"
      ]
    },
    {
      "cell_type": "code",
      "execution_count": 143,
      "metadata": {
        "colab": {
          "base_uri": "https://localhost:8080/"
        },
        "id": "BPqjra1JLWdS",
        "outputId": "13ee52ed-4422-4deb-a5e6-c0ddd36ed4bc"
      },
      "outputs": [
        {
          "name": "stdout",
          "output_type": "stream",
          "text": [
            "<class 'pandas.core.frame.DataFrame'>\n",
            "Index: 19629 entries, 0 to 20057\n",
            "Data columns (total 9 columns):\n",
            " #   Column                    Non-Null Count  Dtype \n",
            "---  ------                    --------------  ----- \n",
            " 0   turns                     19629 non-null  int64 \n",
            " 1   winner                    19629 non-null  object\n",
            " 2   moves                     19629 non-null  object\n",
            " 3   opening_eco               19629 non-null  object\n",
            " 4   opening_ply               19629 non-null  int64 \n",
            " 5   victory_status_draw       19629 non-null  int64 \n",
            " 6   victory_status_mate       19629 non-null  int64 \n",
            " 7   victory_status_outoftime  19629 non-null  int64 \n",
            " 8   victory_status_resign     19629 non-null  int64 \n",
            "dtypes: int64(6), object(3)\n",
            "memory usage: 1.5+ MB\n"
          ]
        }
      ],
      "source": [
        "data.info()"
      ]
    },
    {
      "cell_type": "code",
      "execution_count": 144,
      "metadata": {
        "id": "CfiiXI8zLWdS"
      },
      "outputs": [],
      "source": [
        "top_n = 10  # Adjust as needed\n",
        "top_categories = data['opening_eco'].value_counts().nlargest(top_n).index\n",
        "data['opening_eco_processed'] = np.where(data['opening_eco'].isin(top_categories), data['opening_eco'], 'Other')"
      ]
    },
    {
      "cell_type": "code",
      "execution_count": 145,
      "metadata": {
        "id": "Ugh9LC2RLWdT"
      },
      "outputs": [],
      "source": [
        "data = pd.get_dummies(data, columns=['opening_eco_processed'], prefix='opening_eco', dtype=int)"
      ]
    },
    {
      "cell_type": "code",
      "execution_count": 146,
      "metadata": {
        "id": "4ZAuECK0LWdT"
      },
      "outputs": [],
      "source": [
        "data = data.drop('opening_eco', axis=1)"
      ]
    },
    {
      "cell_type": "code",
      "execution_count": 147,
      "metadata": {
        "colab": {
          "base_uri": "https://localhost:8080/"
        },
        "id": "BJFwrL0hLWdT",
        "outputId": "8df37723-3740-4ba6-c8b3-a8df1c1483ec"
      },
      "outputs": [
        {
          "name": "stdout",
          "output_type": "stream",
          "text": [
            "<class 'pandas.core.frame.DataFrame'>\n",
            "Index: 19629 entries, 0 to 20057\n",
            "Data columns (total 19 columns):\n",
            " #   Column                    Non-Null Count  Dtype \n",
            "---  ------                    --------------  ----- \n",
            " 0   turns                     19629 non-null  int64 \n",
            " 1   winner                    19629 non-null  object\n",
            " 2   moves                     19629 non-null  object\n",
            " 3   opening_ply               19629 non-null  int64 \n",
            " 4   victory_status_draw       19629 non-null  int64 \n",
            " 5   victory_status_mate       19629 non-null  int64 \n",
            " 6   victory_status_outoftime  19629 non-null  int64 \n",
            " 7   victory_status_resign     19629 non-null  int64 \n",
            " 8   opening_eco_A00           19629 non-null  int64 \n",
            " 9   opening_eco_A40           19629 non-null  int64 \n",
            " 10  opening_eco_B00           19629 non-null  int64 \n",
            " 11  opening_eco_B01           19629 non-null  int64 \n",
            " 12  opening_eco_B20           19629 non-null  int64 \n",
            " 13  opening_eco_C00           19629 non-null  int64 \n",
            " 14  opening_eco_C20           19629 non-null  int64 \n",
            " 15  opening_eco_C41           19629 non-null  int64 \n",
            " 16  opening_eco_C50           19629 non-null  int64 \n",
            " 17  opening_eco_D00           19629 non-null  int64 \n",
            " 18  opening_eco_Other         19629 non-null  int64 \n",
            "dtypes: int64(17), object(2)\n",
            "memory usage: 3.0+ MB\n"
          ]
        }
      ],
      "source": [
        "data.info()"
      ]
    },
    {
      "cell_type": "code",
      "execution_count": 148,
      "metadata": {
        "id": "WTVzP9-fLWdU"
      },
      "outputs": [],
      "source": [
        "moves = np.array(data.query(\"winner != 'draw'\")['moves'])"
      ]
    },
    {
      "cell_type": "code",
      "execution_count": 155,
      "metadata": {},
      "outputs": [],
      "source": [
        "moves_with_draw = np.array(data['moves'])"
      ]
    },
    {
      "cell_type": "code",
      "execution_count": 149,
      "metadata": {
        "colab": {
          "base_uri": "https://localhost:8080/"
        },
        "id": "gLuIEmscLWdU",
        "outputId": "f51fc0a3-4ae4-4929-ccba-f7b2e2dd67ef"
      },
      "outputs": [
        {
          "data": {
            "text/plain": [
              "array([1, 0, 1, ..., 1, 1, 0])"
            ]
          },
          "execution_count": 149,
          "metadata": {},
          "output_type": "execute_result"
        }
      ],
      "source": [
        "labels = np.array(data.query(\"winner != 'draw'\")['winner'].apply(lambda x: 1 if x =='white' else 0))\n",
        "labels"
      ]
    },
    {
      "cell_type": "code",
      "execution_count": 156,
      "metadata": {},
      "outputs": [
        {
          "data": {
            "text/plain": [
              "array([1, 0, 1, ..., 1, 1, 0])"
            ]
          },
          "execution_count": 156,
          "metadata": {},
          "output_type": "execute_result"
        }
      ],
      "source": [
        "labels_with_draw = np.array(data['winner'].apply(lambda x: 2 if x == 'draw' else 1 if x == 'white' else 0))\n",
        "labels_with_draw"
      ]
    },
    {
      "cell_type": "code",
      "execution_count": 16,
      "metadata": {
        "colab": {
          "base_uri": "https://localhost:8080/"
        },
        "id": "us9H-A6TLWdV",
        "outputId": "be91016b-d2d9-4386-8623-3fa8ad9d6549"
      },
      "outputs": [
        {
          "data": {
            "text/plain": [
              "4373"
            ]
          },
          "execution_count": 16,
          "metadata": {},
          "output_type": "execute_result"
        }
      ],
      "source": [
        "all_moves = set()\n",
        "for moves_list in moves:\n",
        "    for move in moves_list.split(' '):\n",
        "        if move not in all_moves:\n",
        "            all_moves.add(move)\n",
        "\n",
        "\n",
        "vocab_length = len(all_moves)\n",
        "vocab_length"
      ]
    },
    {
      "cell_type": "code",
      "execution_count": null,
      "metadata": {},
      "outputs": [],
      "source": [
        "all_moves_with_draw = set()\n",
        "for moves_list in moves_with_draw:\n",
        "    for move in moves_list.split(' '):\n",
        "        if move not in all_moves:\n",
        "            all_moves.add(move)\n",
        "\n",
        "\n",
        "vocab_length_with_draw = len(all_moves_with_draw)\n",
        "vocab_length_with_draw"
      ]
    },
    {
      "cell_type": "code",
      "execution_count": 17,
      "metadata": {
        "colab": {
          "base_uri": "https://localhost:8080/"
        },
        "id": "_PvalTNzLWdV",
        "outputId": "b1115a29-ed79-473e-ab41-348fc3cbc802"
      },
      "outputs": [
        {
          "data": {
            "text/plain": [
              "349"
            ]
          },
          "execution_count": 17,
          "metadata": {},
          "output_type": "execute_result"
        }
      ],
      "source": [
        "max_moves = data.turns.max()\n",
        "max_moves"
      ]
    },
    {
      "cell_type": "code",
      "execution_count": 18,
      "metadata": {
        "colab": {
          "base_uri": "https://localhost:8080/"
        },
        "id": "q9IPxAO9LWdV",
        "outputId": "c5cbfe97-b38f-44e9-9311-32d6082571bb"
      },
      "outputs": [
        {
          "name": "stdout",
          "output_type": "stream",
          "text": [
            "4373\n",
            "349\n"
          ]
        }
      ],
      "source": [
        "print(vocab_length)\n",
        "print(max_moves)"
      ]
    },
    {
      "cell_type": "code",
      "execution_count": 133,
      "metadata": {
        "id": "_UFoVlgWLWdW"
      },
      "outputs": [],
      "source": [
        "tokenizer = Tokenizer(num_words=vocab_length)\n",
        "tokenizer.fit_on_texts(moves)\n",
        "\n",
        "sequences = tokenizer.texts_to_sequences(moves)\n",
        "word_index = tokenizer.word_index\n",
        "\n",
        "model_inputs = pad_sequences(sequences, maxlen=max_moves)\n",
        "\n",
        "pkl.dump(tokenizer, open('trained_models/tokenizer.pkl', 'wb'))"
      ]
    },
    {
      "cell_type": "code",
      "execution_count": 160,
      "metadata": {},
      "outputs": [
        {
          "data": {
            "text/plain": [
              "((18711, 349), (18711,))"
            ]
          },
          "execution_count": 160,
          "metadata": {},
          "output_type": "execute_result"
        }
      ],
      "source": [
        "model_inputs.shape, labels.shape"
      ]
    },
    {
      "cell_type": "code",
      "execution_count": 157,
      "metadata": {},
      "outputs": [],
      "source": [
        "tokenizer_with_draw = Tokenizer(num_words=vocab_length_with_draw)\n",
        "tokenizer_with_draw.fit_on_texts(moves_with_draw)\n",
        "\n",
        "sequences_with_draw = tokenizer_with_draw.texts_to_sequences(moves_with_draw)\n",
        "word_index_with_draw = tokenizer_with_draw.word_index\n",
        "\n",
        "model_inputs_with_draw = pad_sequences(sequences_with_draw, maxlen=max_moves)\n",
        "\n",
        "#pkl.dump(tokenizer, open('trained_models/tokenizer.pkl', 'wb'))"
      ]
    },
    {
      "cell_type": "code",
      "execution_count": 161,
      "metadata": {
        "colab": {
          "base_uri": "https://localhost:8080/"
        },
        "id": "1dUQs-xaLWdW",
        "outputId": "5ea7af75-5220-4cfe-bb51-be0dbe6a4866"
      },
      "outputs": [
        {
          "data": {
            "text/plain": [
              "((19629, 349), (19629,))"
            ]
          },
          "execution_count": 161,
          "metadata": {},
          "output_type": "execute_result"
        }
      ],
      "source": [
        "model_inputs_with_draw.shape, labels_with_draw.shape"
      ]
    },
    {
      "cell_type": "code",
      "execution_count": 21,
      "metadata": {
        "id": "ExpCrJIJLWdW"
      },
      "outputs": [],
      "source": [
        "X_train,X_test,y_train,y_test = train_test_split(model_inputs, labels, test_size=0.2, random_state=42)"
      ]
    },
    {
      "cell_type": "code",
      "execution_count": 162,
      "metadata": {},
      "outputs": [],
      "source": [
        "X_train_with_draw,X_test_with_draw,y_train_with_draw,y_test_with_draw = train_test_split(model_inputs_with_draw, labels_with_draw, test_size=0.2, random_state=42)"
      ]
    },
    {
      "cell_type": "code",
      "execution_count": 22,
      "metadata": {
        "colab": {
          "base_uri": "https://localhost:8080/"
        },
        "id": "UqFodTl1LWdW",
        "outputId": "4818b0f1-cc91-4acd-b365-f884bc2781ef"
      },
      "outputs": [
        {
          "data": {
            "text/plain": [
              "349"
            ]
          },
          "execution_count": 22,
          "metadata": {},
          "output_type": "execute_result"
        }
      ],
      "source": [
        "max_moves"
      ]
    },
    {
      "cell_type": "code",
      "execution_count": 164,
      "metadata": {
        "id": "RACmtYFJM-pf"
      },
      "outputs": [],
      "source": [
        "model = Sequential()\n",
        "model.add(Embedding(input_dim=vocab_length, output_dim=256, input_length=max_moves))\n",
        "model.add(GRU(units=256))\n",
        "model.add(Dense(1, activation='sigmoid'))"
      ]
    },
    {
      "cell_type": "code",
      "execution_count": 165,
      "metadata": {
        "colab": {
          "base_uri": "https://localhost:8080/"
        },
        "id": "ioR6aml6LWdX",
        "outputId": "2dcf31f5-b6d6-4981-f5b6-16f86983767f"
      },
      "outputs": [
        {
          "name": "stdout",
          "output_type": "stream",
          "text": [
            "Epoch 1/3\n",
            "468/468 - 286s - loss: 0.6977 - accuracy: 0.6941 - val_loss: 0.5533 - val_accuracy: 0.7168 - lr: 0.0010 - 286s/epoch - 611ms/step\n",
            "Epoch 2/3\n",
            "468/468 - 246s - loss: 0.4885 - accuracy: 0.7656 - val_loss: 0.4474 - val_accuracy: 0.7943 - lr: 0.0010 - 246s/epoch - 527ms/step\n",
            "Epoch 3/3\n",
            "468/468 - 274s - loss: 0.3454 - accuracy: 0.8489 - val_loss: 0.3268 - val_accuracy: 0.8587 - lr: 0.0010 - 274s/epoch - 586ms/step\n"
          ]
        }
      ],
      "source": [
        "model.compile(optimizer='adam', loss='binary_crossentropy', metrics=['accuracy'])\n",
        "history = model.fit(X_train, y_train, epochs=3, batch_size=32, validation_data=(X_test, y_test), verbose=2, callbacks=ReduceLROnPlateau())"
      ]
    },
    {
      "cell_type": "code",
      "execution_count": 30,
      "metadata": {
        "colab": {
          "base_uri": "https://localhost:8080/"
        },
        "id": "-tZWa83ALWdX",
        "outputId": "8eeebb3b-78ec-4dd6-f42a-4f7796b06a66"
      },
      "outputs": [
        {
          "name": "stdout",
          "output_type": "stream",
          "text": [
            "117/117 [==============================] - 2s 14ms/step - loss: 0.3293 - accuracy: 0.8715\n"
          ]
        }
      ],
      "source": [
        "test_loss, test_accuracy = model.evaluate(X_test, y_test)"
      ]
    },
    {
      "cell_type": "code",
      "execution_count": 131,
      "metadata": {
        "id": "FSlw3RsCNtkG"
      },
      "outputs": [],
      "source": [
        "pkl.dump(model, open('trained_models/model.pkl', 'wb'))"
      ]
    },
    {
      "cell_type": "code",
      "execution_count": 163,
      "metadata": {},
      "outputs": [],
      "source": [
        "model_with_draw = Sequential()\n",
        "model_with_draw.add(Embedding(input_dim=vocab_length_with_draw, output_dim=256, input_length=max_moves))\n",
        "model_with_draw.add(GRU(units=256))\n",
        "model_with_draw.add(Dense(3, activation='softmax'))"
      ]
    },
    {
      "cell_type": "code",
      "execution_count": null,
      "metadata": {},
      "outputs": [],
      "source": [
        "model_with_draw.compile(optimizer='adam', loss='sparse_categorical_crossentropy', metrics=['accuracy'])\n",
        "history_with_draw = model_with_draw.fit(X_train_with_draw, y_train_with_draw, epochs=3, batch_size=32, validation_data=(X_test_with_draw, y_test_with_draw), verbose=2, callbacks=ReduceLROnPlateau())"
      ]
    }
  ],
  "metadata": {
    "accelerator": "GPU",
    "colab": {
      "gpuType": "T4",
      "provenance": []
    },
    "interpreter": {
      "hash": "7cca6fdd52781265d319e65b023b632cc1e8372d45dc7c5f187668753c995b89"
    },
    "kernelspec": {
      "display_name": "Python 3",
      "name": "python3"
    },
    "language_info": {
      "codemirror_mode": {
        "name": "ipython",
        "version": 3
      },
      "file_extension": ".py",
      "mimetype": "text/x-python",
      "name": "python",
      "nbconvert_exporter": "python",
      "pygments_lexer": "ipython3",
      "version": "3.10.4"
    },
    "orig_nbformat": 4
  },
  "nbformat": 4,
  "nbformat_minor": 0
}
