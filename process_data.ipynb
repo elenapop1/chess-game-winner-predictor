{
  "cells": [
    {
      "cell_type": "code",
      "execution_count": 49,
      "metadata": {
        "id": "SJE2PoZgLWdO"
      },
      "outputs": [],
      "source": [
        "import pandas as pd\n",
        "import numpy as np\n",
        "import pickle as pkl\n",
        "import matplotlib.pyplot as plt\n",
        "from tensorflow.keras.preprocessing.sequence import pad_sequences\n",
        "from sklearn.model_selection import train_test_split\n",
        "from tensorflow.keras.preprocessing.text import Tokenizer\n",
        "from tensorflow.keras.models import Sequential\n",
        "from tensorflow.keras.layers import Embedding, LSTM, Dense, Input,GRU, SimpleRNN, Dropout\n",
        "import tensorflow as tf\n",
        "from sklearn.model_selection import train_test_split\n",
        "from tensorflow.keras.callbacks import ReduceLROnPlateau, EarlyStopping, History\n",
        "from keras import regularizers\n",
        "from keras.optimizers import Adam\n",
        "import seaborn as sns\n",
        "from sklearn.metrics import accuracy_score, precision_score, recall_score, f1_score\n",
        "from tensorflow.keras.models import save_model\n"
      ]
    },
    {
      "cell_type": "code",
      "execution_count": 2,
      "metadata": {
        "id": "cep3dAWzLWdQ"
      },
      "outputs": [],
      "source": [
        "data = pd.read_csv('games.csv')"
      ]
    },
    {
      "cell_type": "markdown",
      "source": [
        "# Explore the dataset and clean it up as much as needed"
      ],
      "metadata": {
        "id": "5n6DMZOtjdzD"
      }
    },
    {
      "cell_type": "code",
      "execution_count": 3,
      "metadata": {
        "colab": {
          "base_uri": "https://localhost:8080/"
        },
        "id": "IwlcIKzWLWdQ",
        "outputId": "7667c4c5-5ce0-4b22-dbb6-6fc81a503aa4"
      },
      "outputs": [
        {
          "output_type": "execute_result",
          "data": {
            "text/plain": [
              "429"
            ]
          },
          "metadata": {},
          "execution_count": 3
        }
      ],
      "source": [
        "data.duplicated().sum()"
      ]
    },
    {
      "cell_type": "code",
      "execution_count": 4,
      "metadata": {
        "id": "2w_TjW68LWdR"
      },
      "outputs": [],
      "source": [
        "data = data.drop_duplicates()"
      ]
    },
    {
      "cell_type": "code",
      "source": [
        "data.info()"
      ],
      "metadata": {
        "colab": {
          "base_uri": "https://localhost:8080/"
        },
        "id": "VTbJJsnhyUxC",
        "outputId": "47946aa9-6197-4902-da1d-a98f9fbdd4cb"
      },
      "execution_count": 5,
      "outputs": [
        {
          "output_type": "stream",
          "name": "stdout",
          "text": [
            "<class 'pandas.core.frame.DataFrame'>\n",
            "Int64Index: 19629 entries, 0 to 20057\n",
            "Data columns (total 16 columns):\n",
            " #   Column          Non-Null Count  Dtype  \n",
            "---  ------          --------------  -----  \n",
            " 0   id              19629 non-null  object \n",
            " 1   rated           19629 non-null  bool   \n",
            " 2   created_at      19629 non-null  float64\n",
            " 3   last_move_at    19629 non-null  float64\n",
            " 4   turns           19629 non-null  int64  \n",
            " 5   victory_status  19629 non-null  object \n",
            " 6   winner          19629 non-null  object \n",
            " 7   increment_code  19629 non-null  object \n",
            " 8   white_id        19629 non-null  object \n",
            " 9   white_rating    19629 non-null  int64  \n",
            " 10  black_id        19629 non-null  object \n",
            " 11  black_rating    19629 non-null  int64  \n",
            " 12  moves           19629 non-null  object \n",
            " 13  opening_eco     19629 non-null  object \n",
            " 14  opening_name    19629 non-null  object \n",
            " 15  opening_ply     19629 non-null  int64  \n",
            "dtypes: bool(1), float64(2), int64(4), object(9)\n",
            "memory usage: 2.4+ MB\n"
          ]
        }
      ]
    },
    {
      "cell_type": "markdown",
      "source": [
        "# Only 2 columns are interesting for the purpose of this project since we deal with users that might not be regular chess players"
      ],
      "metadata": {
        "id": "RDbTvfENjwvw"
      }
    },
    {
      "cell_type": "code",
      "execution_count": 6,
      "metadata": {
        "colab": {
          "base_uri": "https://localhost:8080/"
        },
        "id": "pucfDoetLWdR",
        "outputId": "889ed724-09b1-4aad-deb1-424eebe565f5"
      },
      "outputs": [
        {
          "output_type": "execute_result",
          "data": {
            "text/plain": [
              "white    9792\n",
              "black    8919\n",
              "draw      918\n",
              "Name: winner, dtype: int64"
            ]
          },
          "metadata": {},
          "execution_count": 6
        }
      ],
      "source": [
        "data.winner.value_counts()"
      ]
    },
    {
      "cell_type": "code",
      "source": [
        "ax = sns.countplot( x = 'winner', hue = 'victory_status', data = data)\n",
        "ax_attr = ax.set(xlabel = 'Who Won?', title = 'Victory Status: Distribution')"
      ],
      "metadata": {
        "colab": {
          "base_uri": "https://localhost:8080/",
          "height": 472
        },
        "id": "65rCKET69N2O",
        "outputId": "43ce2660-fe43-46a8-9f57-f5e6951b417b"
      },
      "execution_count": 38,
      "outputs": [
        {
          "output_type": "display_data",
          "data": {
            "text/plain": [
              "<Figure size 640x480 with 1 Axes>"
            ],
            "image/png": "[encoded data removed]"
          },
          "metadata": {}
        }
      ]
    },
    {
      "cell_type": "markdown",
      "source": [
        "# Two approaches were implemented as an answer to the logical validity issue (in a binary clasification we can not say white or black is the winner because we don not consider the draw probability)\n",
        "1. white, black\n",
        "2. white, black, draw"
      ],
      "metadata": {
        "id": "VPmMpq_nkXaN"
      }
    },
    {
      "cell_type": "code",
      "execution_count": 7,
      "metadata": {
        "id": "WTVzP9-fLWdU"
      },
      "outputs": [],
      "source": [
        "moves = np.array(data.query(\"winner != 'draw'\")['moves'])"
      ]
    },
    {
      "cell_type": "code",
      "execution_count": 8,
      "metadata": {
        "id": "PYiDWdf5buTS"
      },
      "outputs": [],
      "source": [
        "moves_with_draw = np.array(data['moves'])"
      ]
    },
    {
      "cell_type": "markdown",
      "source": [
        "# Prepare labels for classification task"
      ],
      "metadata": {
        "id": "q8oAEZ1CllOT"
      }
    },
    {
      "cell_type": "code",
      "execution_count": 9,
      "metadata": {
        "colab": {
          "base_uri": "https://localhost:8080/"
        },
        "id": "gLuIEmscLWdU",
        "outputId": "b4656a74-e791-4a3b-d4eb-ac5aa400134f"
      },
      "outputs": [
        {
          "output_type": "execute_result",
          "data": {
            "text/plain": [
              "array([1, 0, 1, ..., 1, 1, 0])"
            ]
          },
          "metadata": {},
          "execution_count": 9
        }
      ],
      "source": [
        "labels = np.array(data.query(\"winner != 'draw'\")['winner'].apply(lambda x: 1 if x =='white' else 0))\n",
        "labels"
      ]
    },
    {
      "cell_type": "code",
      "execution_count": 10,
      "metadata": {
        "colab": {
          "base_uri": "https://localhost:8080/"
        },
        "id": "3mLFYFH3buTT",
        "outputId": "05a63608-b50d-4f4c-99c9-100449ae319d"
      },
      "outputs": [
        {
          "output_type": "execute_result",
          "data": {
            "text/plain": [
              "array([1, 0, 1, ..., 1, 1, 0])"
            ]
          },
          "metadata": {},
          "execution_count": 10
        }
      ],
      "source": [
        "labels_with_draw = np.array(data['winner'].apply(lambda x: 2 if x == 'draw' else 1 if x == 'white' else 0))\n",
        "labels_with_draw"
      ]
    },
    {
      "cell_type": "markdown",
      "source": [
        "# Create a vocabulary of all unique moves  "
      ],
      "metadata": {
        "id": "v1G4_V0sl2kF"
      }
    },
    {
      "cell_type": "code",
      "execution_count": 11,
      "metadata": {
        "colab": {
          "base_uri": "https://localhost:8080/"
        },
        "id": "us9H-A6TLWdV",
        "outputId": "125367d8-6f97-41eb-dea5-c35f4461656e"
      },
      "outputs": [
        {
          "output_type": "execute_result",
          "data": {
            "text/plain": [
              "4373"
            ]
          },
          "metadata": {},
          "execution_count": 11
        }
      ],
      "source": [
        "all_moves = set()\n",
        "for moves_list in moves:\n",
        "    for move in moves_list.split(' '):\n",
        "        if move not in all_moves:\n",
        "            all_moves.add(move)\n",
        "\n",
        "\n",
        "vocab_length = len(all_moves)\n",
        "vocab_length"
      ]
    },
    {
      "cell_type": "code",
      "execution_count": 12,
      "metadata": {
        "colab": {
          "base_uri": "https://localhost:8080/"
        },
        "id": "DTBIjNtCbuTT",
        "outputId": "2d255710-1354-4cee-f8bf-c007a3d775fb"
      },
      "outputs": [
        {
          "output_type": "execute_result",
          "data": {
            "text/plain": [
              "4447"
            ]
          },
          "metadata": {},
          "execution_count": 12
        }
      ],
      "source": [
        "all_moves_with_draw = set()\n",
        "for moves_list in moves_with_draw:\n",
        "    for move in moves_list.split(' '):\n",
        "        if move not in all_moves_with_draw:\n",
        "            all_moves_with_draw.add(move)\n",
        "\n",
        "\n",
        "vocab_length_with_draw = len(all_moves_with_draw)\n",
        "vocab_length_with_draw"
      ]
    },
    {
      "cell_type": "markdown",
      "source": [
        "# Get the longest sequence of moves in a game"
      ],
      "metadata": {
        "id": "SX-BDU6HmIFK"
      }
    },
    {
      "cell_type": "code",
      "execution_count": 13,
      "metadata": {
        "colab": {
          "base_uri": "https://localhost:8080/"
        },
        "id": "_PvalTNzLWdV",
        "outputId": "dd1d9bef-cbb0-40f5-db97-8fd92dbddf8f"
      },
      "outputs": [
        {
          "output_type": "execute_result",
          "data": {
            "text/plain": [
              "349"
            ]
          },
          "metadata": {},
          "execution_count": 13
        }
      ],
      "source": [
        "max_moves = data.turns.max()\n",
        "max_moves"
      ]
    },
    {
      "cell_type": "code",
      "execution_count": 14,
      "metadata": {
        "colab": {
          "base_uri": "https://localhost:8080/"
        },
        "id": "q9IPxAO9LWdV",
        "outputId": "cbe895bf-dbcb-411f-f0e9-96e10039fbbd"
      },
      "outputs": [
        {
          "output_type": "stream",
          "name": "stdout",
          "text": [
            "4373\n",
            "349\n",
            "4447\n",
            "349\n"
          ]
        }
      ],
      "source": [
        "print(vocab_length)\n",
        "print(max_moves)\n",
        "print(vocab_length_with_draw)\n",
        "print(max_moves)"
      ]
    },
    {
      "cell_type": "markdown",
      "source": [
        "# Small trick to try to avoid different results on consecutive fittings"
      ],
      "metadata": {
        "id": "djPZQ7lLmeYQ"
      }
    },
    {
      "cell_type": "code",
      "source": [
        "# trying this to stop having different results after each fitting\n",
        "seed_value = 42\n",
        "np.random.seed(seed_value)\n",
        "tf.random.set_seed(seed_value)"
      ],
      "metadata": {
        "id": "KxwLPQC42fZ_"
      },
      "execution_count": 15,
      "outputs": []
    },
    {
      "cell_type": "markdown",
      "source": [
        "# Tokenize the moves (replacing the moves with numbers, the most frequent move will have the lowest number ) and padding. Dump the tokenizer to use it on our sequence to predict"
      ],
      "metadata": {
        "id": "qBF407xnmsQ5"
      }
    },
    {
      "cell_type": "code",
      "execution_count": 16,
      "metadata": {
        "id": "_UFoVlgWLWdW"
      },
      "outputs": [],
      "source": [
        "tokenizer = Tokenizer(num_words=vocab_length)\n",
        "tokenizer.fit_on_texts(moves)\n",
        "\n",
        "sequences = tokenizer.texts_to_sequences(moves)\n",
        "word_index = tokenizer.word_index\n",
        "\n",
        "model_inputs = pad_sequences(sequences, maxlen=max_moves)\n",
        "\n",
        "pkl.dump(tokenizer, open('tokenizer.pkl', 'wb'))"
      ]
    },
    {
      "cell_type": "code",
      "execution_count": 17,
      "metadata": {
        "colab": {
          "base_uri": "https://localhost:8080/"
        },
        "id": "SZ-bYOrwbuTU",
        "outputId": "b481e3a9-f782-45f2-ff50-799f03de7dfc"
      },
      "outputs": [
        {
          "output_type": "execute_result",
          "data": {
            "text/plain": [
              "((18711, 349), (18711,))"
            ]
          },
          "metadata": {},
          "execution_count": 17
        }
      ],
      "source": [
        "model_inputs.shape, labels.shape"
      ]
    },
    {
      "cell_type": "code",
      "execution_count": 18,
      "metadata": {
        "id": "qVtVfe-3buTU"
      },
      "outputs": [],
      "source": [
        "tokenizer_with_draw = Tokenizer(num_words=vocab_length_with_draw)\n",
        "tokenizer_with_draw.fit_on_texts(moves_with_draw)\n",
        "\n",
        "sequences_with_draw = tokenizer_with_draw.texts_to_sequences(moves_with_draw)\n",
        "word_index_with_draw = tokenizer_with_draw.word_index\n",
        "\n",
        "model_inputs_with_draw = pad_sequences(sequences_with_draw, maxlen=max_moves)\n",
        "\n",
        "pkl.dump(tokenizer, open('tokenizer_with_draw.pkl', 'wb'))"
      ]
    },
    {
      "cell_type": "code",
      "execution_count": 19,
      "metadata": {
        "colab": {
          "base_uri": "https://localhost:8080/"
        },
        "id": "1dUQs-xaLWdW",
        "outputId": "3d3f49fd-dc4a-4970-892a-6ddfbcd0f002"
      },
      "outputs": [
        {
          "output_type": "execute_result",
          "data": {
            "text/plain": [
              "((19629, 349), (19629,))"
            ]
          },
          "metadata": {},
          "execution_count": 19
        }
      ],
      "source": [
        "model_inputs_with_draw.shape, labels_with_draw.shape"
      ]
    },
    {
      "cell_type": "markdown",
      "source": [
        "# Split data for trainig and test"
      ],
      "metadata": {
        "id": "TkoMTqBjpMn9"
      }
    },
    {
      "cell_type": "code",
      "execution_count": 20,
      "metadata": {
        "id": "ExpCrJIJLWdW"
      },
      "outputs": [],
      "source": [
        "X_train,X_test,y_train,y_test = train_test_split(model_inputs, labels, test_size=0.2, random_state=42)"
      ]
    },
    {
      "cell_type": "code",
      "execution_count": 21,
      "metadata": {
        "id": "QZ5Upy9tbuTV"
      },
      "outputs": [],
      "source": [
        "X_train_with_draw,X_test_with_draw,y_train_with_draw,y_test_with_draw = train_test_split(model_inputs_with_draw, labels_with_draw, test_size=0.2, random_state=42)"
      ]
    },
    {
      "cell_type": "markdown",
      "source": [
        "# Create RNN model: Embedding layer since we work with categorical data, GRU for sequential data, Dropout for avoiding overfitting. The rest depends because the 2 approaches defined above"
      ],
      "metadata": {
        "id": "m-2nY3IhpTYv"
      }
    },
    {
      "cell_type": "code",
      "execution_count": 22,
      "metadata": {
        "id": "RACmtYFJM-pf"
      },
      "outputs": [],
      "source": [
        "model = Sequential()\n",
        "model.add(Embedding(input_dim=vocab_length, output_dim=256, input_length=max_moves))\n",
        "model.add(GRU(units=256))\n",
        "model.add(Dropout(0.7))\n",
        "model.add(Dense(1, activation='sigmoid'))"
      ]
    },
    {
      "cell_type": "code",
      "execution_count": 23,
      "metadata": {
        "colab": {
          "base_uri": "https://localhost:8080/"
        },
        "id": "ioR6aml6LWdX",
        "outputId": "8df0b5d9-a55b-4a21-ee2b-66dfb2ff97ba"
      },
      "outputs": [
        {
          "output_type": "stream",
          "name": "stdout",
          "text": [
            "Epoch 1/3\n",
            "234/234 - 438s - loss: 0.5628 - accuracy: 0.7234 - val_loss: 0.4910 - val_accuracy: 0.7668 - lr: 0.0010 - 438s/epoch - 2s/step\n",
            "Epoch 2/3\n",
            "234/234 - 424s - loss: 0.4633 - accuracy: 0.7819 - val_loss: 0.4674 - val_accuracy: 0.7785 - lr: 0.0010 - 424s/epoch - 2s/step\n",
            "Epoch 3/3\n",
            "234/234 - 441s - loss: 0.4008 - accuracy: 0.8175 - val_loss: 0.3670 - val_accuracy: 0.8320 - lr: 0.0010 - 441s/epoch - 2s/step\n"
          ]
        }
      ],
      "source": [
        "model.compile(optimizer='adam', loss='binary_crossentropy', metrics=['accuracy'])\n",
        "history_no_draw = model.fit(X_train, y_train, epochs=3, batch_size=64, shuffle=False,validation_data=(X_test, y_test), verbose=2, callbacks=ReduceLROnPlateau())"
      ]
    },
    {
      "cell_type": "code",
      "execution_count": 24,
      "metadata": {
        "colab": {
          "base_uri": "https://localhost:8080/"
        },
        "id": "-tZWa83ALWdX",
        "outputId": "77f78284-bd36-47c3-ed45-d38199cf8120"
      },
      "outputs": [
        {
          "output_type": "stream",
          "name": "stdout",
          "text": [
            "117/117 [==============================] - 38s 321ms/step - loss: 0.3670 - accuracy: 0.8320\n"
          ]
        }
      ],
      "source": [
        "test_loss, test_accuracy = model.evaluate(X_test, y_test)"
      ]
    },
    {
      "cell_type": "code",
      "execution_count": 44,
      "metadata": {
        "id": "FSlw3RsCNtkG"
      },
      "outputs": [],
      "source": [
        "#pkl.dump(model, open('model.pkl', 'wb'))\n",
        "#save_model(model, 'model.h5')"
      ]
    },
    {
      "cell_type": "code",
      "execution_count": 26,
      "metadata": {
        "id": "6KCXLSFnbuTW"
      },
      "outputs": [],
      "source": [
        "model_with_draw = Sequential()\n",
        "model_with_draw.add(Embedding(input_dim=vocab_length_with_draw, output_dim=256, input_length=max_moves))\n",
        "#model_with_draw.add(GRU(units=256, return_sequences=True))\n",
        "#model_with_draw.add(Dropout(0.5))\n",
        "model_with_draw.add(GRU(units=256))\n",
        "model_with_draw.add(Dropout(0.7))\n",
        "model_with_draw.add(Dense(3, activation='softmax', kernel_regularizer=regularizers.l2(0.01)))"
      ]
    },
    {
      "cell_type": "code",
      "source": [
        "# Define EarlyStopping callback\n",
        "early_stopping = EarlyStopping(monitor='val_loss', patience=5, restore_best_weights=True)\n",
        "history = History()"
      ],
      "metadata": {
        "id": "o85xRz3ctsC4"
      },
      "execution_count": 27,
      "outputs": []
    },
    {
      "cell_type": "code",
      "execution_count": 28,
      "metadata": {
        "colab": {
          "base_uri": "https://localhost:8080/"
        },
        "id": "zAcJm0-ybuTW",
        "outputId": "f1e9e3ba-cd23-47cc-fb17-45d5fbd88fee"
      },
      "outputs": [
        {
          "output_type": "stream",
          "name": "stdout",
          "text": [
            "Epoch 1/3\n",
            "246/246 - 460s - loss: 0.7496 - accuracy: 0.6811 - val_loss: 0.6529 - val_accuracy: 0.7254 - 460s/epoch - 2s/step\n",
            "Epoch 2/3\n",
            "246/246 - 456s - loss: 0.6268 - accuracy: 0.7422 - val_loss: 0.6072 - val_accuracy: 0.7458 - 456s/epoch - 2s/step\n",
            "Epoch 3/3\n",
            "246/246 - 457s - loss: 0.4851 - accuracy: 0.8139 - val_loss: 0.4239 - val_accuracy: 0.8474 - 457s/epoch - 2s/step\n"
          ]
        }
      ],
      "source": [
        "model_with_draw.compile(optimizer=Adam(learning_rate=0.001), loss='sparse_categorical_crossentropy', metrics=['accuracy'])\n",
        "history_with_draw = model_with_draw.fit(X_train_with_draw, y_train_with_draw, shuffle=False, epochs=3, batch_size=64, validation_data=(X_test_with_draw, y_test_with_draw), verbose=2, callbacks=[early_stopping, history])"
      ]
    },
    {
      "cell_type": "code",
      "source": [
        "#pkl.dump(model_with_draw, open('model_with_draw.pkl', 'wb'))"
      ],
      "metadata": {
        "id": "JGieBwlSnoPT"
      },
      "execution_count": 43,
      "outputs": []
    },
    {
      "cell_type": "code",
      "source": [
        "save_model(model_with_draw, 'model_with_draw.h5')"
      ],
      "metadata": {
        "colab": {
          "base_uri": "https://localhost:8080/"
        },
        "id": "9C7CLfvcnQdV",
        "outputId": "897617b9-5feb-4b08-ce2f-16d06dad8314"
      },
      "execution_count": 54,
      "outputs": [
        {
          "output_type": "stream",
          "name": "stderr",
          "text": [
            "<ipython-input-54-69739cbc1402>:1: UserWarning: You are saving your model as an HDF5 file via `model.save()`. This file format is considered legacy. We recommend using instead the native Keras format, e.g. `model.save('my_model.keras')`.\n",
            "  save_model(model_with_draw, 'model_with_draw.h5')\n"
          ]
        }
      ]
    },
    {
      "cell_type": "code",
      "source": [
        "model_with_draw.evaluate(X_test_with_draw, y_test_with_draw)"
      ],
      "metadata": {
        "colab": {
          "base_uri": "https://localhost:8080/"
        },
        "id": "rhiuFALxpP7h",
        "outputId": "bfc9bfa1-28d8-4744-821f-f45f94a3683c"
      },
      "execution_count": 39,
      "outputs": [
        {
          "output_type": "stream",
          "name": "stdout",
          "text": [
            "123/123 [==============================] - 45s 362ms/step - loss: 0.4239 - accuracy: 0.8474\n"
          ]
        },
        {
          "output_type": "execute_result",
          "data": {
            "text/plain": [
              "[0.4238640367984772, 0.8474274277687073]"
            ]
          },
          "metadata": {},
          "execution_count": 39
        }
      ]
    },
    {
      "cell_type": "code",
      "source": [
        "y_pred = model_with_draw.predict(X_test_with_draw)\n",
        "y_pred_classes = np.argmax(y_pred, axis=1)\n",
        "y_pred, y_pred_classes"
      ],
      "metadata": {
        "colab": {
          "base_uri": "https://localhost:8080/"
        },
        "id": "gy_nhE3vUl1V",
        "outputId": "4e524baa-690c-4534-d5a2-8ae92de57c1b"
      },
      "execution_count": 41,
      "outputs": [
        {
          "output_type": "stream",
          "name": "stdout",
          "text": [
            "123/123 [==============================] - 46s 375ms/step\n"
          ]
        },
        {
          "output_type": "execute_result",
          "data": {
            "text/plain": [
              "(array([[0.08624481, 0.8679342 , 0.04582096],\n",
              "        [0.22514565, 0.63646215, 0.13839215],\n",
              "        [0.5192185 , 0.38121882, 0.09956264],\n",
              "        ...,\n",
              "        [0.00939409, 0.98472667, 0.00587915],\n",
              "        [0.04808735, 0.9435347 , 0.00837803],\n",
              "        [0.8197359 , 0.08113004, 0.0991341 ]], dtype=float32),\n",
              " array([1, 1, 0, ..., 1, 1, 0]))"
            ]
          },
          "metadata": {},
          "execution_count": 41
        }
      ]
    },
    {
      "cell_type": "code",
      "source": [
        "accuracy = accuracy_score(y_test_with_draw, y_pred_classes)\n",
        "precision = precision_score(y_test_with_draw, y_pred_classes, average='weighted')\n",
        "recall = recall_score(y_test_with_draw, y_pred_classes, average='weighted')\n",
        "f1 = f1_score(y_test_with_draw, y_pred_classes, average='weighted')\n",
        "\n",
        "print(f'Accuracy: {accuracy:.4f}')\n",
        "print(f'Precision: {precision:.4f}')\n",
        "print(f'Recall: {recall:.4f}')\n",
        "print(f'F1 Score: {f1:.4f}')"
      ],
      "metadata": {
        "colab": {
          "base_uri": "https://localhost:8080/"
        },
        "id": "mcVUyA_WUm37",
        "outputId": "1ae23b2f-89c9-469a-c449-388fcbf5e1b1"
      },
      "execution_count": 42,
      "outputs": [
        {
          "output_type": "stream",
          "name": "stdout",
          "text": [
            "Accuracy: 0.8474\n",
            "Precision: 0.8437\n",
            "Recall: 0.8474\n",
            "F1 Score: 0.8345\n"
          ]
        }
      ]
    },
    {
      "cell_type": "markdown",
      "source": [
        "# Plot to supervize the overfitting"
      ],
      "metadata": {
        "id": "05ahc-hzqVae"
      }
    },
    {
      "cell_type": "code",
      "source": [
        "\n",
        "# Plot the learning curves\n",
        "plt.figure(figsize=(12, 6))\n",
        "\n",
        "# Plot Training & Validation Loss\n",
        "plt.subplot(1, 2, 1)\n",
        "plt.plot(history.history['loss'], label='Training Loss')\n",
        "plt.plot(history.history['val_loss'], label='Validation Loss')\n",
        "plt.xlabel('Epochs')\n",
        "plt.ylabel('Loss')\n",
        "plt.legend()\n",
        "plt.title('Training and Validation Loss')\n",
        "\n",
        "# Plot Training & Validation Accuracy\n",
        "plt.subplot(1, 2, 2)\n",
        "plt.plot(history.history['accuracy'], label='Training Accuracy')\n",
        "plt.plot(history.history['val_accuracy'], label='Validation Accuracy')\n",
        "plt.xlabel('Epochs')\n",
        "plt.ylabel('Accuracy')\n",
        "plt.legend()\n",
        "plt.title('Training and Validation Accuracy')\n",
        "\n",
        "plt.tight_layout()\n",
        "# a bit of underfitting"
      ],
      "metadata": {
        "colab": {
          "base_uri": "https://localhost:8080/",
          "height": 521
        },
        "id": "q5Loeb5Fv32F",
        "outputId": "527f5c32-54f6-4d7b-e5ae-82074149dc14"
      },
      "execution_count": 35,
      "outputs": [
        {
          "output_type": "display_data",
          "data": {
            "text/plain": [
              "<Figure size 1200x600 with 2 Axes>"
            ],
            "image/png": "[encoded data removed]"
          },
          "metadata": {}
        }
      ]
    },
    {
      "cell_type": "code",
      "source": [],
      "metadata": {
        "id": "lcqLt9_DwN84"
      },
      "execution_count": 31,
      "outputs": []
    }
  ],
  "metadata": {
    "colab": {
      "provenance": []
    },
    "interpreter": {
      "hash": "7cca6fdd52781265d319e65b023b632cc1e8372d45dc7c5f187668753c995b89"
    },
    "kernelspec": {
      "display_name": "Python 3",
      "name": "python3"
    },
    "language_info": {
      "codemirror_mode": {
        "name": "ipython",
        "version": 3
      },
      "file_extension": ".py",
      "mimetype": "text/x-python",
      "name": "python",
      "nbconvert_exporter": "python",
      "pygments_lexer": "ipython3",
      "version": "3.10.4"
    },
    "orig_nbformat": 4
  },
  "nbformat": 4,
  "nbformat_minor": 0
}